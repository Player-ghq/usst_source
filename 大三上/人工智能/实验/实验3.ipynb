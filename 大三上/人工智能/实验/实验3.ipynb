{
 "cells": [
  {
   "cell_type": "code",
   "execution_count": 25,
   "metadata": {},
   "outputs": [],
   "source": [
    "import pandas as pd\n"
   ]
  },
  {
   "cell_type": "code",
   "execution_count": 26,
   "metadata": {},
   "outputs": [],
   "source": [
    "high = pd.read_excel(\"声诊练习.xlsx\",sheet_name= '汇总   高危   声 ')\n",
    "medi = pd.read_excel(\"声诊练习.xlsx\",sheet_name= '汇总  中危组  声  ')\n",
    "low = pd.read_excel(\"声诊练习.xlsx\",sheet_name= '低危  声  总表  ')"
   ]
  },
  {
   "cell_type": "code",
   "execution_count": 27,
   "metadata": {},
   "outputs": [],
   "source": [
    "data = pd.concat([high,medi,low],axis= 0)"
   ]
  },
  {
   "cell_type": "code",
   "execution_count": 28,
   "metadata": {},
   "outputs": [],
   "source": [
    "data_y = data.iloc[:,-1]\n",
    "data_x = data.iloc[:,:-1]"
   ]
  },
  {
   "cell_type": "code",
   "execution_count": 29,
   "metadata": {},
   "outputs": [],
   "source": [
    "from sklearn.model_selection import train_test_split"
   ]
  },
  {
   "cell_type": "code",
   "execution_count": 30,
   "metadata": {},
   "outputs": [],
   "source": [
    "xtrain,xtest,ytrain,ytest = train_test_split(data_x,data_y,test_size = 0.2 ,random_state = 1 )"
   ]
  },
  {
   "cell_type": "code",
   "execution_count": 53,
   "metadata": {},
   "outputs": [
    {
     "data": {
      "text/plain": [
       "0.16666666666666666"
      ]
     },
     "execution_count": 53,
     "metadata": {},
     "output_type": "execute_result"
    }
   ],
   "source": [
    "# from sklearn.neighbors import KNeighborsClassifier\n",
    "\n",
    "# knn = KNeighborsClassifier()\n",
    "\n",
    "# clf = knn.fit(xtrain,ytrain)\n",
    "\n",
    "# clf.score(xtest,ytest)\n",
    "\n",
    "# from sklearn.tree import DecisionTreeClassifier\n",
    "\n",
    "# dtc = DecisionTreeClassifier()\n",
    "\n",
    "# clf = dtc.fit(xtrain,ytrain)\n",
    "\n",
    "# clf.score(xtest,ytest)\n",
    "\n",
    "# from sklearn.naive_bayes import GaussianNB\n",
    "\n",
    "\n",
    "# gnb = GaussianNB()\n",
    "\n",
    "# clf = gnb.fit(xtrain,ytrain)\n",
    "\n",
    "# clf.score(xtest,ytest)\n",
    "\n",
    "from sklearn.svm import SVC\n",
    "\n",
    "svc = SVC(probability= True)\n",
    "\n",
    "clf = svc.fit(xtrain,ytrain)\n",
    "\n",
    "clf.score(xtest,ytest)"
   ]
  },
  {
   "cell_type": "code",
   "execution_count": 54,
   "metadata": {},
   "outputs": [
    {
     "name": "stdout",
     "output_type": "stream",
     "text": [
      "(6, 3)\n",
      "[1. 1. 1. 1. 1. 1.]\n",
      "[[0 0 2]\n",
      " [0 0 3]\n",
      " [0 0 1]]\n"
     ]
    }
   ],
   "source": [
    "from sklearn.metrics import confusion_matrix as CM\n",
    "\n",
    "# 查看预测结果的概率\\\n",
    "y_pred = clf.predict(xtest)\n",
    "proba = clf.predict_proba(xtest)\n",
    "print(proba.shape) # 返回的是每个样本，对应每个分类的概率\n",
    "\n",
    "print(proba.sum(1)) # 每一行的概率之和都是1\n",
    "\n",
    "# 查看混淆矩阵\n",
    "print(CM(ytest, y_pred))"
   ]
  },
  {
   "cell_type": "code",
   "execution_count": 55,
   "metadata": {},
   "outputs": [
    {
     "name": "stdout",
     "output_type": "stream",
     "text": [
      "[[0 0 2]\n",
      " [0 0 3]\n",
      " [0 0 1]]\n",
      "              precision    recall  f1-score   support\n",
      "\n",
      "           1       0.00      0.00      0.00         2\n",
      "           2       0.00      0.00      0.00         3\n",
      "           3       0.17      1.00      0.29         1\n",
      "\n",
      "    accuracy                           0.17         6\n",
      "   macro avg       0.06      0.33      0.10         6\n",
      "weighted avg       0.03      0.17      0.05         6\n",
      "\n"
     ]
    },
    {
     "name": "stderr",
     "output_type": "stream",
     "text": [
      "d:\\Python\\Python310\\lib\\site-packages\\sklearn\\metrics\\_classification.py:1334: UndefinedMetricWarning: Precision and F-score are ill-defined and being set to 0.0 in labels with no predicted samples. Use `zero_division` parameter to control this behavior.\n",
      "  _warn_prf(average, modifier, msg_start, len(result))\n",
      "d:\\Python\\Python310\\lib\\site-packages\\sklearn\\metrics\\_classification.py:1334: UndefinedMetricWarning: Precision and F-score are ill-defined and being set to 0.0 in labels with no predicted samples. Use `zero_division` parameter to control this behavior.\n",
      "  _warn_prf(average, modifier, msg_start, len(result))\n",
      "d:\\Python\\Python310\\lib\\site-packages\\sklearn\\metrics\\_classification.py:1334: UndefinedMetricWarning: Precision and F-score are ill-defined and being set to 0.0 in labels with no predicted samples. Use `zero_division` parameter to control this behavior.\n",
      "  _warn_prf(average, modifier, msg_start, len(result))\n"
     ]
    }
   ],
   "source": [
    "from sklearn import metrics  # 模型评价\n",
    "\n",
    "y_prob = clf.predict_proba(xtest)[:,1]\n",
    "confusion_matrix=metrics.confusion_matrix(ytest,y_pred)\n",
    "print(confusion_matrix)\n",
    "\n",
    "auc_roc=metrics.classification_report(ytest,y_pred)\n",
    "print(auc_roc)\n",
    "\n",
    "\n",
    "##真假阳性\n",
    "# 导入评价模块\n",
    "from sklearn.metrics import roc_curve, auc\n",
    "\n",
    "# 评价指标\n",
    "# false_positive_rate, true_positive_rate, thresholds = roc_curve(ytest, y_prob)\n",
    "# roc曲线面积\n",
    "# roc_auc = auc(false_positive_rate, true_positive_rate)\n",
    "# print(roc_auc)"
   ]
  },
  {
   "cell_type": "code",
   "execution_count": null,
   "metadata": {},
   "outputs": [],
   "source": []
  }
 ],
 "metadata": {
  "kernelspec": {
   "display_name": "Python 3",
   "language": "python",
   "name": "python3"
  },
  "language_info": {
   "codemirror_mode": {
    "name": "ipython",
    "version": 3
   },
   "file_extension": ".py",
   "mimetype": "text/x-python",
   "name": "python",
   "nbconvert_exporter": "python",
   "pygments_lexer": "ipython3",
   "version": "3.10.7"
  },
  "orig_nbformat": 4,
  "vscode": {
   "interpreter": {
    "hash": "301a17a29b57d3836b7901af1621afd6d2b1f2298b9c7949191147cf2fea93e3"
   }
  }
 },
 "nbformat": 4,
 "nbformat_minor": 2
}
